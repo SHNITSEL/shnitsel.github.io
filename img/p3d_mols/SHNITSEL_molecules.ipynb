{
 "cells": [
  {
   "cell_type": "code",
   "execution_count": 1,
   "id": "3a79bb90-155d-4777-a3cf-4f1f6bbd278b",
   "metadata": {},
   "outputs": [],
   "source": [
    "import py3Dmol\n",
    "import rdkit\n",
    "from rdkit.Chem import AllChem\n",
    "from rdkit.Chem import rdDetermineBonds\n"
   ]
  },
  {
   "cell_type": "code",
   "execution_count": 2,
   "id": "28db478d-87cf-4d23-908f-ce6f49cffbee",
   "metadata": {},
   "outputs": [],
   "source": [
    "def smiles2xyz(smiles):\n",
    "    mol = rdkit.Chem.MolFromSmiles(smiles)\n",
    "    mol_H = rdkit.Chem.rdmolops.AddHs(mol)\n",
    "    AllChem.EmbedMolecule(mol_H, AllChem.ETKDG())\n",
    "    AllChem.UFFOptimizeMoleculeConfs(mol_H, maxIters=10000)\n",
    "\n",
    "    return rdkit.Chem.MolToXYZBlock(mol_H)"
   ]
  },
  {
   "cell_type": "code",
   "execution_count": null,
   "id": "c2529e82-e4e1-4228-8fee-62a80b668017",
   "metadata": {},
   "outputs": [],
   "source": []
  },
  {
   "cell_type": "code",
   "execution_count": 3,
   "id": "94e20964-f4ff-434f-9372-b3d3b37241d5",
   "metadata": {},
   "outputs": [],
   "source": [
    "A01 = smiles2xyz('C=C')\n",
    "A02 = smiles2xyz('CC=C')\n",
    "A03 = smiles2xyz('CC=CC')\n",
    "\n",
    "R01 = smiles2xyz('C=C1C=CC=C1')\n",
    "R02 = smiles2xyz('C1=CC(=CC=C1CC(C(=O)O)N)O')\n",
    "\n",
    "H01 = smiles2xyz('C(I)I')\n",
    "\n",
    "I01 = smiles2xyz('C=[NH2+]')\n",
    "T01 = smiles2xyz('C=S')\n"
   ]
  },
  {
   "cell_type": "code",
   "execution_count": 4,
   "id": "76684984-6187-497d-b3f6-82a371307cdd",
   "metadata": {},
   "outputs": [
    {
     "data": {
      "application/3dmoljs_load.v0": "<div id=\"3dmolviewer_17340250622168734\"  style=\"position: relative; width: 1100px; height: 500px;\">\n        <p id=\"3dmolwarning_17340250622168734\" style=\"background-color:#ffcccc;color:black\">3Dmol.js failed to load for some reason.  Please check your browser console for error messages.<br></p>\n        </div>\n<script>\n\nvar loadScriptAsync = function(uri){\n  return new Promise((resolve, reject) => {\n    //this is to ignore the existence of requirejs amd\n    var savedexports, savedmodule;\n    if (typeof exports !== 'undefined') savedexports = exports;\n    else exports = {}\n    if (typeof module !== 'undefined') savedmodule = module;\n    else module = {}\n\n    var tag = document.createElement('script');\n    tag.src = uri;\n    tag.async = true;\n    tag.onload = () => {\n        exports = savedexports;\n        module = savedmodule;\n        resolve();\n    };\n  var firstScriptTag = document.getElementsByTagName('script')[0];\n  firstScriptTag.parentNode.insertBefore(tag, firstScriptTag);\n});\n};\n\nif(typeof $3Dmolpromise === 'undefined') {\n$3Dmolpromise = null;\n  $3Dmolpromise = loadScriptAsync('https://cdnjs.cloudflare.com/ajax/libs/3Dmol/2.4.2/3Dmol-min.js');\n}\n\nvar viewer_17340250622168734 = null;\nvar warn = document.getElementById(\"3dmolwarning_17340250622168734\");\nif(warn) {\n    warn.parentNode.removeChild(warn);\n}\n$3Dmolpromise.then(function() {\nvar viewergrid_17340250622168734 = null;\nviewergrid_17340250622168734 = $3Dmol.createViewerGrid(document.getElementById(\"3dmolviewer_17340250622168734\"),{rows: 2, cols: 4, control_all: false},{backgroundColor:\"white\"});\nviewer_17340250622168734 = viewergrid_17340250622168734[0][0];\nviewergrid_17340250622168734[0][0].zoomTo();viewergrid_17340250622168734[0][1].zoomTo();viewergrid_17340250622168734[0][2].zoomTo();viewergrid_17340250622168734[0][3].zoomTo();viewergrid_17340250622168734[1][0].zoomTo();viewergrid_17340250622168734[1][1].zoomTo();viewergrid_17340250622168734[1][2].zoomTo();viewergrid_17340250622168734[1][3].zoomTo();\tviewergrid_17340250622168734[0][0].addModel(\"6\\n\\nC     -0.649238    0.016509    0.145266\\nC      0.649238   -0.016509   -0.145265\\nH     -1.241291   -0.892110    0.106469\\nH     -1.123641    0.952246    0.422680\\nH      1.123640   -0.952245   -0.422684\\nH      1.241292    0.892109   -0.106465\\n\",\"xyz\");\n\tviewergrid_17340250622168734[0][1].addModel(\"9\\n\\nC     -0.840891   -0.742035    0.087861\\nC      0.538476   -0.162088    0.138128\\nC      0.767310    1.105848   -0.210958\\nH     -1.233472   -0.697286   -0.950011\\nH     -1.515635   -0.174673    0.763228\\nH     -0.813343   -1.802201    0.415795\\nH      1.366656   -0.784284    0.464322\\nH      1.774330    1.507880   -0.167742\\nH     -0.043431    1.748838   -0.540623\\n\",\"xyz\");\n\tviewergrid_17340250622168734[0][2].addModel(\"12\\n\\nC     -1.908595   -0.229714    0.162854\\nC     -0.481780   -0.382218   -0.264622\\nC      0.481780    0.382218    0.264622\\nC      1.908595    0.229714   -0.162854\\nH     -2.261355    0.800593   -0.054601\\nH     -2.001766   -0.430587    1.251077\\nH     -2.544809   -0.951290   -0.391062\\nH     -0.234737   -1.127345   -1.016349\\nH      0.234737    1.127344    1.016349\\nH      2.261356   -0.800593    0.054603\\nH      2.544808    0.951291    0.391060\\nH      2.001765    0.430587   -1.251077\\n\",\"xyz\");\n\tviewergrid_17340250622168734[0][3].addModel(\"12\\n\\nC     -1.993536    0.096885    0.007217\\nC     -0.666248    0.032379    0.002413\\nC      0.256166    1.155132   -0.076011\\nC      1.485792    0.659848   -0.052455\\nC      1.415146   -0.800832    0.041953\\nC      0.143490   -1.174555    0.074566\\nH     -2.586386   -0.806684    0.069325\\nH     -2.496407    1.053705   -0.050923\\nH      0.000875    2.204858   -0.141795\\nH      2.392361    1.248507   -0.096424\\nH      2.260655   -1.474640    0.079578\\nH     -0.211907   -2.194602    0.142558\\n\",\"xyz\");\n\tviewergrid_17340250622168734[1][0].addModel(\"24\\n\\nC      0.670242   -0.566594    1.077358\\nC      1.839247    0.112413    1.433606\\nC      2.700704    0.597379    0.444487\\nC      2.388233    0.399941   -0.907237\\nC      1.219607   -0.278453   -1.266079\\nC      0.350510   -0.766662   -0.276064\\nC     -0.921590   -1.484094   -0.662160\\nC     -2.135066   -0.545662   -0.821032\\nC     -2.479622    0.152591    0.471325\\nO     -3.275499   -0.391634    1.282787\\nO     -1.887451    1.369758    0.798182\\nN     -1.924964    0.409072   -1.913657\\nO      3.861643    1.272733    0.813999\\nH      0.012306   -0.932903    1.855702\\nH      2.075360    0.262901    2.479361\\nH      3.048814    0.772608   -1.679683\\nH      0.989690   -0.419752   -2.314912\\nH     -0.763347   -2.031248   -1.617507\\nH     -1.157475   -2.258275    0.101220\\nH     -3.001538   -1.187126   -1.099134\\nH     -2.097729    1.831345    1.674904\\nH     -1.201084    1.113036   -1.642024\\nH     -2.816833    0.932406   -2.072844\\nH      4.505842    1.636220    0.121346\\n\",\"xyz\");\n\tviewergrid_17340250622168734[1][1].addModel(\"5\\n\\nC     -0.002654   -0.236122    0.003353\\nI      1.751763    0.974805   -0.029239\\nI     -1.729397    1.014376    0.000989\\nH     -0.017867   -0.889302   -0.893248\\nH     -0.001846   -0.863757    0.918145\\n\",\"xyz\");\n\tviewergrid_17340250622168734[1][2].addModel(\"6\\n\\nC      0.589442    0.007891   -0.227260\\nN     -0.607388   -0.008132    0.234179\\nH      0.942886    0.856400   -0.805165\\nH      1.258980   -0.826922   -0.043766\\nH     -0.941907   -0.813710    0.782450\\nH     -1.242013    0.784472    0.059562\\n\",\"xyz\");\n\tviewergrid_17340250622168734[1][3].addModel(\"4\\n\\nC     -0.084384    0.007671   -0.480497\\nS      1.303102   -0.118457   -0.145012\\nH     -0.526078    0.990797   -0.600191\\nH     -0.692640   -0.880011   -0.614678\\n\",\"xyz\");\n\tviewergrid_17340250622168734[0][0].setViewStyle({\"style\": \"outline\", \"width\": 0.05});\n\tviewergrid_17340250622168734[0][1].setViewStyle({\"style\": \"outline\", \"width\": 0.05});\n\tviewergrid_17340250622168734[0][2].setViewStyle({\"style\": \"outline\", \"width\": 0.05});\n\tviewergrid_17340250622168734[0][3].setViewStyle({\"style\": \"outline\", \"width\": 0.05});\n\tviewergrid_17340250622168734[1][0].setViewStyle({\"style\": \"outline\", \"width\": 0.05});\n\tviewergrid_17340250622168734[1][1].setViewStyle({\"style\": \"outline\", \"width\": 0.05});\n\tviewergrid_17340250622168734[1][2].setViewStyle({\"style\": \"outline\", \"width\": 0.05});\n\tviewergrid_17340250622168734[1][3].setViewStyle({\"style\": \"outline\", \"width\": 0.05});\n\tviewergrid_17340250622168734[0][0].setStyle({\"stick\": {}, \"sphere\": {\"scale\": 0.35}});\n\tviewergrid_17340250622168734[0][1].setStyle({\"stick\": {}, \"sphere\": {\"scale\": 0.35}});\n\tviewergrid_17340250622168734[0][2].setStyle({\"stick\": {}, \"sphere\": {\"scale\": 0.35}});\n\tviewergrid_17340250622168734[0][3].setStyle({\"stick\": {}, \"sphere\": {\"scale\": 0.35}});\n\tviewergrid_17340250622168734[1][0].setStyle({\"stick\": {}, \"sphere\": {\"scale\": 0.35}});\n\tviewergrid_17340250622168734[1][1].setStyle({\"stick\": {}, \"sphere\": {\"scale\": 0.35}});\n\tviewergrid_17340250622168734[1][2].setStyle({\"stick\": {}, \"sphere\": {\"scale\": 0.35}});\n\tviewergrid_17340250622168734[1][3].setStyle({\"stick\": {}, \"sphere\": {\"scale\": 0.35}});\n\tviewergrid_17340250622168734[0][0].zoomTo();\n\tviewergrid_17340250622168734[0][1].zoomTo();\n\tviewergrid_17340250622168734[0][2].zoomTo();\n\tviewergrid_17340250622168734[0][3].zoomTo();\n\tviewergrid_17340250622168734[1][0].zoomTo();\n\tviewergrid_17340250622168734[1][1].zoomTo();\n\tviewergrid_17340250622168734[1][2].zoomTo();\n\tviewergrid_17340250622168734[1][3].zoomTo();\nviewergrid_17340250622168734[1][3].render();\nviewergrid_17340250622168734[1][2].render();\nviewergrid_17340250622168734[1][1].render();\nviewergrid_17340250622168734[1][0].render();\nviewergrid_17340250622168734[0][3].render();\nviewergrid_17340250622168734[0][2].render();\nviewergrid_17340250622168734[0][1].render();\nviewergrid_17340250622168734[0][0].render();\n});\n</script>",
      "text/html": [
       "<div id=\"3dmolviewer_17340250622168734\"  style=\"position: relative; width: 1100px; height: 500px;\">\n",
       "        <p id=\"3dmolwarning_17340250622168734\" style=\"background-color:#ffcccc;color:black\">3Dmol.js failed to load for some reason.  Please check your browser console for error messages.<br></p>\n",
       "        </div>\n",
       "<script>\n",
       "\n",
       "var loadScriptAsync = function(uri){\n",
       "  return new Promise((resolve, reject) => {\n",
       "    //this is to ignore the existence of requirejs amd\n",
       "    var savedexports, savedmodule;\n",
       "    if (typeof exports !== 'undefined') savedexports = exports;\n",
       "    else exports = {}\n",
       "    if (typeof module !== 'undefined') savedmodule = module;\n",
       "    else module = {}\n",
       "\n",
       "    var tag = document.createElement('script');\n",
       "    tag.src = uri;\n",
       "    tag.async = true;\n",
       "    tag.onload = () => {\n",
       "        exports = savedexports;\n",
       "        module = savedmodule;\n",
       "        resolve();\n",
       "    };\n",
       "  var firstScriptTag = document.getElementsByTagName('script')[0];\n",
       "  firstScriptTag.parentNode.insertBefore(tag, firstScriptTag);\n",
       "});\n",
       "};\n",
       "\n",
       "if(typeof $3Dmolpromise === 'undefined') {\n",
       "$3Dmolpromise = null;\n",
       "  $3Dmolpromise = loadScriptAsync('https://cdnjs.cloudflare.com/ajax/libs/3Dmol/2.4.2/3Dmol-min.js');\n",
       "}\n",
       "\n",
       "var viewer_17340250622168734 = null;\n",
       "var warn = document.getElementById(\"3dmolwarning_17340250622168734\");\n",
       "if(warn) {\n",
       "    warn.parentNode.removeChild(warn);\n",
       "}\n",
       "$3Dmolpromise.then(function() {\n",
       "var viewergrid_17340250622168734 = null;\n",
       "viewergrid_17340250622168734 = $3Dmol.createViewerGrid(document.getElementById(\"3dmolviewer_17340250622168734\"),{rows: 2, cols: 4, control_all: false},{backgroundColor:\"white\"});\n",
       "viewer_17340250622168734 = viewergrid_17340250622168734[0][0];\n",
       "viewergrid_17340250622168734[0][0].zoomTo();viewergrid_17340250622168734[0][1].zoomTo();viewergrid_17340250622168734[0][2].zoomTo();viewergrid_17340250622168734[0][3].zoomTo();viewergrid_17340250622168734[1][0].zoomTo();viewergrid_17340250622168734[1][1].zoomTo();viewergrid_17340250622168734[1][2].zoomTo();viewergrid_17340250622168734[1][3].zoomTo();\tviewergrid_17340250622168734[0][0].addModel(\"6\\n\\nC     -0.649238    0.016509    0.145266\\nC      0.649238   -0.016509   -0.145265\\nH     -1.241291   -0.892110    0.106469\\nH     -1.123641    0.952246    0.422680\\nH      1.123640   -0.952245   -0.422684\\nH      1.241292    0.892109   -0.106465\\n\",\"xyz\");\n",
       "\tviewergrid_17340250622168734[0][1].addModel(\"9\\n\\nC     -0.840891   -0.742035    0.087861\\nC      0.538476   -0.162088    0.138128\\nC      0.767310    1.105848   -0.210958\\nH     -1.233472   -0.697286   -0.950011\\nH     -1.515635   -0.174673    0.763228\\nH     -0.813343   -1.802201    0.415795\\nH      1.366656   -0.784284    0.464322\\nH      1.774330    1.507880   -0.167742\\nH     -0.043431    1.748838   -0.540623\\n\",\"xyz\");\n",
       "\tviewergrid_17340250622168734[0][2].addModel(\"12\\n\\nC     -1.908595   -0.229714    0.162854\\nC     -0.481780   -0.382218   -0.264622\\nC      0.481780    0.382218    0.264622\\nC      1.908595    0.229714   -0.162854\\nH     -2.261355    0.800593   -0.054601\\nH     -2.001766   -0.430587    1.251077\\nH     -2.544809   -0.951290   -0.391062\\nH     -0.234737   -1.127345   -1.016349\\nH      0.234737    1.127344    1.016349\\nH      2.261356   -0.800593    0.054603\\nH      2.544808    0.951291    0.391060\\nH      2.001765    0.430587   -1.251077\\n\",\"xyz\");\n",
       "\tviewergrid_17340250622168734[0][3].addModel(\"12\\n\\nC     -1.993536    0.096885    0.007217\\nC     -0.666248    0.032379    0.002413\\nC      0.256166    1.155132   -0.076011\\nC      1.485792    0.659848   -0.052455\\nC      1.415146   -0.800832    0.041953\\nC      0.143490   -1.174555    0.074566\\nH     -2.586386   -0.806684    0.069325\\nH     -2.496407    1.053705   -0.050923\\nH      0.000875    2.204858   -0.141795\\nH      2.392361    1.248507   -0.096424\\nH      2.260655   -1.474640    0.079578\\nH     -0.211907   -2.194602    0.142558\\n\",\"xyz\");\n",
       "\tviewergrid_17340250622168734[1][0].addModel(\"24\\n\\nC      0.670242   -0.566594    1.077358\\nC      1.839247    0.112413    1.433606\\nC      2.700704    0.597379    0.444487\\nC      2.388233    0.399941   -0.907237\\nC      1.219607   -0.278453   -1.266079\\nC      0.350510   -0.766662   -0.276064\\nC     -0.921590   -1.484094   -0.662160\\nC     -2.135066   -0.545662   -0.821032\\nC     -2.479622    0.152591    0.471325\\nO     -3.275499   -0.391634    1.282787\\nO     -1.887451    1.369758    0.798182\\nN     -1.924964    0.409072   -1.913657\\nO      3.861643    1.272733    0.813999\\nH      0.012306   -0.932903    1.855702\\nH      2.075360    0.262901    2.479361\\nH      3.048814    0.772608   -1.679683\\nH      0.989690   -0.419752   -2.314912\\nH     -0.763347   -2.031248   -1.617507\\nH     -1.157475   -2.258275    0.101220\\nH     -3.001538   -1.187126   -1.099134\\nH     -2.097729    1.831345    1.674904\\nH     -1.201084    1.113036   -1.642024\\nH     -2.816833    0.932406   -2.072844\\nH      4.505842    1.636220    0.121346\\n\",\"xyz\");\n",
       "\tviewergrid_17340250622168734[1][1].addModel(\"5\\n\\nC     -0.002654   -0.236122    0.003353\\nI      1.751763    0.974805   -0.029239\\nI     -1.729397    1.014376    0.000989\\nH     -0.017867   -0.889302   -0.893248\\nH     -0.001846   -0.863757    0.918145\\n\",\"xyz\");\n",
       "\tviewergrid_17340250622168734[1][2].addModel(\"6\\n\\nC      0.589442    0.007891   -0.227260\\nN     -0.607388   -0.008132    0.234179\\nH      0.942886    0.856400   -0.805165\\nH      1.258980   -0.826922   -0.043766\\nH     -0.941907   -0.813710    0.782450\\nH     -1.242013    0.784472    0.059562\\n\",\"xyz\");\n",
       "\tviewergrid_17340250622168734[1][3].addModel(\"4\\n\\nC     -0.084384    0.007671   -0.480497\\nS      1.303102   -0.118457   -0.145012\\nH     -0.526078    0.990797   -0.600191\\nH     -0.692640   -0.880011   -0.614678\\n\",\"xyz\");\n",
       "\tviewergrid_17340250622168734[0][0].setViewStyle({\"style\": \"outline\", \"width\": 0.05});\n",
       "\tviewergrid_17340250622168734[0][1].setViewStyle({\"style\": \"outline\", \"width\": 0.05});\n",
       "\tviewergrid_17340250622168734[0][2].setViewStyle({\"style\": \"outline\", \"width\": 0.05});\n",
       "\tviewergrid_17340250622168734[0][3].setViewStyle({\"style\": \"outline\", \"width\": 0.05});\n",
       "\tviewergrid_17340250622168734[1][0].setViewStyle({\"style\": \"outline\", \"width\": 0.05});\n",
       "\tviewergrid_17340250622168734[1][1].setViewStyle({\"style\": \"outline\", \"width\": 0.05});\n",
       "\tviewergrid_17340250622168734[1][2].setViewStyle({\"style\": \"outline\", \"width\": 0.05});\n",
       "\tviewergrid_17340250622168734[1][3].setViewStyle({\"style\": \"outline\", \"width\": 0.05});\n",
       "\tviewergrid_17340250622168734[0][0].setStyle({\"stick\": {}, \"sphere\": {\"scale\": 0.35}});\n",
       "\tviewergrid_17340250622168734[0][1].setStyle({\"stick\": {}, \"sphere\": {\"scale\": 0.35}});\n",
       "\tviewergrid_17340250622168734[0][2].setStyle({\"stick\": {}, \"sphere\": {\"scale\": 0.35}});\n",
       "\tviewergrid_17340250622168734[0][3].setStyle({\"stick\": {}, \"sphere\": {\"scale\": 0.35}});\n",
       "\tviewergrid_17340250622168734[1][0].setStyle({\"stick\": {}, \"sphere\": {\"scale\": 0.35}});\n",
       "\tviewergrid_17340250622168734[1][1].setStyle({\"stick\": {}, \"sphere\": {\"scale\": 0.35}});\n",
       "\tviewergrid_17340250622168734[1][2].setStyle({\"stick\": {}, \"sphere\": {\"scale\": 0.35}});\n",
       "\tviewergrid_17340250622168734[1][3].setStyle({\"stick\": {}, \"sphere\": {\"scale\": 0.35}});\n",
       "\tviewergrid_17340250622168734[0][0].zoomTo();\n",
       "\tviewergrid_17340250622168734[0][1].zoomTo();\n",
       "\tviewergrid_17340250622168734[0][2].zoomTo();\n",
       "\tviewergrid_17340250622168734[0][3].zoomTo();\n",
       "\tviewergrid_17340250622168734[1][0].zoomTo();\n",
       "\tviewergrid_17340250622168734[1][1].zoomTo();\n",
       "\tviewergrid_17340250622168734[1][2].zoomTo();\n",
       "\tviewergrid_17340250622168734[1][3].zoomTo();\n",
       "viewergrid_17340250622168734[1][3].render();\n",
       "viewergrid_17340250622168734[1][2].render();\n",
       "viewergrid_17340250622168734[1][1].render();\n",
       "viewergrid_17340250622168734[1][0].render();\n",
       "viewergrid_17340250622168734[0][3].render();\n",
       "viewergrid_17340250622168734[0][2].render();\n",
       "viewergrid_17340250622168734[0][1].render();\n",
       "viewergrid_17340250622168734[0][0].render();\n",
       "});\n",
       "</script>"
      ]
     },
     "metadata": {},
     "output_type": "display_data"
    }
   ],
   "source": [
    "import py3Dmol as p3d\n",
    "\n",
    "viewer = p3d.view(viewergrid=(2,4), width=1100, height=500, linked=False)\n",
    "viewer.addModel(A01, \"xyz\", viewer=(0, 0))\n",
    "viewer.addModel(A02, \"xyz\", viewer=(0, 1))\n",
    "viewer.addModel(A03, \"xyz\", viewer=(0, 2))\n",
    "viewer.addModel(R01, \"xyz\", viewer=(0, 3))\n",
    "\n",
    "viewer.addModel(R02, \"xyz\", viewer=(1, 0))\n",
    "viewer.addModel(H01, \"xyz\", viewer=(1, 1))\n",
    "viewer.addModel(I01, \"xyz\", viewer=(1, 2))\n",
    "viewer.addModel(T01, \"xyz\", viewer=(1, 3))\n",
    "\n",
    "viewer.setViewStyle({\"style\": \"outline\", \"width\": 0.05})\n",
    "viewer.setStyle({\"stick\": {}, \"sphere\": {\"scale\": 0.35}})\n",
    "viewer.zoomTo()\n",
    "viewer.show()"
   ]
  },
  {
   "cell_type": "code",
   "execution_count": 6,
   "id": "4ba250e5-85d1-4918-9d9e-7ad4ed57d62f",
   "metadata": {},
   "outputs": [],
   "source": [
    "# Save the visualization as an HTML file\n",
    "with open(\"molecule.html\", \"w\") as f:\n",
    "    f.write(viewer._make_html())"
   ]
  },
  {
   "cell_type": "code",
   "execution_count": 16,
   "id": "e7c5e518-4c70-4286-957b-a66922689f66",
   "metadata": {},
   "outputs": [],
   "source": [
    "shnitsel_mols = {'A01': A01, 'A02': A02, 'A03': A03, \n",
    "                 'R01': R01, 'R02': R02, \n",
    "                 'H01': H01, 'I01': I01, 'T01': T01}\n",
    "\n",
    "for mol_name, mol in shnitsel_mols.items():\n",
    "    # Configure the viewer\n",
    "    view = p3d.view(width=400, height=300)  # Adjust dimensions as needed\n",
    "    view.addModel(mol, 'xyz')\n",
    "    view.setViewStyle({\"style\": \"outline\", \"width\": 0.05})\n",
    "    view.setStyle({\"stick\": {}, \"sphere\": {\"scale\": 0.35}})\n",
    "    view.zoomTo()\n",
    "    \n",
    "    # Save the visualization as an HTML file\n",
    "    savename = 'p3d_'+str(mol_name)+'.html'\n",
    "    with open(savename, \"w\") as f:\n",
    "        f.write(view._make_html())\n",
    "        "
   ]
  },
  {
   "cell_type": "code",
   "execution_count": null,
   "id": "69ee28b0-3ce4-4fa9-850f-81ff7c21a528",
   "metadata": {},
   "outputs": [],
   "source": []
  }
 ],
 "metadata": {
  "kernelspec": {
   "display_name": "Python 3 (ipykernel)",
   "language": "python",
   "name": "python3"
  },
  "language_info": {
   "codemirror_mode": {
    "name": "ipython",
    "version": 3
   },
   "file_extension": ".py",
   "mimetype": "text/x-python",
   "name": "python",
   "nbconvert_exporter": "python",
   "pygments_lexer": "ipython3",
   "version": "3.11.10"
  }
 },
 "nbformat": 4,
 "nbformat_minor": 5
}
